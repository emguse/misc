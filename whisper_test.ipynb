{
 "cells": [
  {
   "cell_type": "code",
   "execution_count": null,
   "metadata": {},
   "outputs": [],
   "source": [
    "from pydub import AudioSegment\n",
    "import math\n",
    "import glob\n",
    "\n",
    "file_path = \"./org_files/*.mp3\"\n",
    "\n",
    "files = glob.glob(file_path)\n",
    "\n",
    "for file in files:\n",
    "    sound = AudioSegment.from_file(file, format=\"mp3\")\n",
    "\n",
    "    time = math.ceil(sound.duration_seconds)\n",
    "\n",
    "    interval = 30\n",
    "\n",
    "    q, mod = divmod(time, interval)\n",
    "    count = q + 1\n",
    "\n",
    "    st = 0\n",
    "    et = st + interval * 1000 \n",
    "\n",
    "    for i in range(count):\n",
    "        sound1 = sound[st:et]\n",
    "        sound1.export(\"./soruce/\"+ file + \"output\" +  str(i) + \".mp3\", format=\"mp3\")\n",
    "        st = et\n",
    "        et = st + interval * 1000 "
   ]
  },
  {
   "cell_type": "code",
   "execution_count": null,
   "metadata": {},
   "outputs": [],
   "source": [
    "import glob\n",
    "import re\n",
    "\n",
    "files = glob.glob(\"./soruce/*.mp3\")\n",
    "files = sorted(files, key=lambda s: int(re.search(r'\\d+', s).group()))\n",
    "\n",
    "print(files)"
   ]
  },
  {
   "cell_type": "code",
   "execution_count": null,
   "metadata": {},
   "outputs": [],
   "source": [
    "import whisper\n",
    "import pandas as pd\n",
    "import glob\n",
    "import re\n",
    "\n",
    "model = whisper.load_model(\"medium\")\n",
    "\n",
    "files = glob.glob(\"./soruce/*.mp3\")\n",
    "files = sorted(files, key=lambda s: int(re.search(r'\\d+', s).group()))\n",
    "i = 0\n",
    "\n",
    "for file in files:\n",
    "    print(file)\n",
    "    result = model.transcribe(file)\n",
    "    try:\n",
    "        df = pd.DataFrame(result[\"segments\"])[[\"id\", \"start\", \"end\", \"text\"]]\n",
    "        df.to_csv(\"./result_text/result\" + str(i) + \".csv\")\n",
    "        i = i + 1\n",
    "    except:\n",
    "        i = i + 1"
   ]
  },
  {
   "cell_type": "code",
   "execution_count": null,
   "metadata": {},
   "outputs": [],
   "source": [
    "import whisper\n",
    "import pandas as pd\n",
    "import glob\n",
    "import re\n",
    "\n",
    "model = whisper.load_model(\"medium\")\n",
    "\n",
    "files = glob.glob(\"./soruce/*.mp3\")\n",
    "files = sorted(files, key=lambda s: int(re.search(r'\\d+', s).group()))\n",
    "i = 0\n",
    "\n",
    "for file in files:\n",
    "    print(file)\n",
    "    result = model.transcribe(file)\n",
    "    try:\n",
    "        df = pd.DataFrame(result[\"segments\"])[[\"id\", \"start\", \"end\", \"text\"]]\n",
    "        df.to_csv(\"./result_text/result\" + str(i) + \".csv\")\n",
    "        i = i + 1\n",
    "    except:\n",
    "        i = i + 1"
   ]
  }
 ],
 "metadata": {
  "kernelspec": {
   "display_name": "Python 3.9.7 ('myenv': venv)",
   "language": "python",
   "name": "python3"
  },
  "language_info": {
   "codemirror_mode": {
    "name": "ipython",
    "version": 3
   },
   "file_extension": ".py",
   "mimetype": "text/x-python",
   "name": "python",
   "nbconvert_exporter": "python",
   "pygments_lexer": "ipython3",
   "version": "3.9.7 (tags/v3.9.7:1016ef3, Aug 30 2021, 20:19:38) [MSC v.1929 64 bit (AMD64)]"
  },
  "orig_nbformat": 4,
  "vscode": {
   "interpreter": {
    "hash": "5e95e0bfe89013a3035e5ed4ccc71540677a712c51f1d89aa81fa4e242981c6c"
   }
  }
 },
 "nbformat": 4,
 "nbformat_minor": 2
}
